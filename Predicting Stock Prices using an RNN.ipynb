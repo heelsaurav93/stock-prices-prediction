{
 "cells": [
  {
   "cell_type": "markdown",
   "metadata": {},
   "source": [
    "## This program takes in the stock prices of Apple Inc. from Jan 1st 2010 to Oct 31st 2019, and then tries to predict the trend in the stock proces for the next two months, i.e., Nov 2019 and Dec 2019."
   ]
  },
  {
   "cell_type": "code",
   "execution_count": 1,
   "metadata": {},
   "outputs": [],
   "source": [
    "#importing required libraries\n",
    "import numpy as np\n",
    "import pandas as pd\n",
    "import matplotlib.pyplot as plt\n",
    "import os"
   ]
  },
  {
   "cell_type": "code",
   "execution_count": 2,
   "metadata": {},
   "outputs": [],
   "source": [
    "#importing training set\n",
    "os.chdir(r\"D:\\AAPL\")\n",
    "train = pd.read_csv(\"Apple_Stock_Prices_Train.csv\", sep = \",\", encoding = \"ISO-8859-1\")"
   ]
  },
  {
   "cell_type": "markdown",
   "metadata": {},
   "source": [
    "### Part 1. Data Preprocessing"
   ]
  },
  {
   "cell_type": "markdown",
   "metadata": {},
   "source": [
    "We are concerned with only the **Open** column here as we will use that to predict all the **Open** prices for the two months. So lets separate out those values."
   ]
  },
  {
   "cell_type": "code",
   "execution_count": 5,
   "metadata": {
    "scrolled": false
   },
   "outputs": [
    {
     "data": {
      "text/plain": [
       "array([[ 30.49    ],\n",
       "       [ 30.657143],\n",
       "       [ 30.625713],\n",
       "       ...,\n",
       "       [247.419998],\n",
       "       [248.970001],\n",
       "       [244.759995]])"
      ]
     },
     "execution_count": 5,
     "metadata": {},
     "output_type": "execute_result"
    }
   ],
   "source": [
    "#selecting Open column and creating numpy array\n",
    "training_set = train.iloc[:, 1:2].values\n",
    "training_set"
   ]
  },
  {
   "cell_type": "code",
   "execution_count": 7,
   "metadata": {},
   "outputs": [
    {
     "data": {
      "text/plain": [
       "array([[0.01358342],\n",
       "       [0.01433805],\n",
       "       [0.01419615],\n",
       "       ...,\n",
       "       [0.99300188],\n",
       "       [1.        ],\n",
       "       [0.98099222]])"
      ]
     },
     "execution_count": 7,
     "metadata": {},
     "output_type": "execute_result"
    }
   ],
   "source": [
    "#feature scaling\n",
    "from sklearn.preprocessing import MinMaxScaler\n",
    "sc = MinMaxScaler(feature_range = (0,1))\n",
    "training_set_scaled = sc.fit_transform(training_set)\n",
    "training_set_scaled"
   ]
  },
  {
   "cell_type": "code",
   "execution_count": 8,
   "metadata": {},
   "outputs": [
    {
     "data": {
      "text/plain": [
       "(2474, 1)"
      ]
     },
     "execution_count": 8,
     "metadata": {},
     "output_type": "execute_result"
    }
   ],
   "source": [
    "training_set_scaled.shape"
   ]
  },
  {
   "cell_type": "code",
   "execution_count": 9,
   "metadata": {},
   "outputs": [],
   "source": [
    "#create number of time steps to tell the RNN what to remember\n",
    "#creating a data structure with 120 timesteps and 1 output\n",
    "#thus the RNN will predict the stock price at time t by learning the trend from past 120 inputs, or past 6 months\n",
    "X_train = []\n",
    "y_train = []\n",
    "#lower bound is 120 because it can only start from the 121st value to have 120 previous inputs\n",
    "#upper bound is 2474 becuase this is excluded, 2475 is the index number of this last value\n",
    "for i in range(120, 2474):\n",
    "    X_train.append(training_set_scaled[i-120 : i, 0]) #0 for column index\n",
    "    y_train.append(training_set_scaled[i, 0])\n",
    "#convert lists to numpy arrays\n",
    "X_train, y_train = np.array(X_train), np.array(y_train)"
   ]
  },
  {
   "cell_type": "code",
   "execution_count": 10,
   "metadata": {},
   "outputs": [
    {
     "data": {
      "text/plain": [
       "array([[0.01358342, 0.01433805, 0.01419615, ..., 0.05146348, 0.05302435,\n",
       "        0.0507153 ],\n",
       "       [0.01433805, 0.01419615, 0.01249984, ..., 0.05302435, 0.0507153 ,\n",
       "        0.05010901],\n",
       "       [0.01419615, 0.01249984, 0.01156461, ..., 0.0507153 , 0.05010901,\n",
       "        0.0480902 ],\n",
       "       ...,\n",
       "       [0.78748336, 0.780711  , 0.7672566 , ..., 0.96898262, 0.97986349,\n",
       "        0.97376841],\n",
       "       [0.780711  , 0.7672566 , 0.72341691, ..., 0.97986349, 0.97376841,\n",
       "        0.99300188],\n",
       "       [0.7672566 , 0.72341691, 0.71754752, ..., 0.97376841, 0.99300188,\n",
       "        1.        ]])"
      ]
     },
     "execution_count": 10,
     "metadata": {},
     "output_type": "execute_result"
    }
   ],
   "source": [
    "X_train"
   ]
  },
  {
   "cell_type": "markdown",
   "metadata": {},
   "source": [
    "First list corresponds to i being 121st value, and previous 120 values."
   ]
  },
  {
   "cell_type": "code",
   "execution_count": 11,
   "metadata": {},
   "outputs": [
    {
     "data": {
      "text/plain": [
       "array([0.05010901, 0.0480902 , 0.04627779, ..., 0.99300188, 1.        ,\n",
       "       0.98099222])"
      ]
     },
     "execution_count": 11,
     "metadata": {},
     "output_type": "execute_result"
    }
   ],
   "source": [
    "y_train"
   ]
  },
  {
   "cell_type": "markdown",
   "metadata": {},
   "source": [
    "Here, each entry corredponds to 121st, 122nd, ... values."
   ]
  },
  {
   "cell_type": "code",
   "execution_count": 12,
   "metadata": {},
   "outputs": [],
   "source": [
    "#reshaping to add more dimensionality\n",
    "#3 parameters acc to keras docu: batch_size (how many stock prices), timesteps, input_dim\n",
    "#1 indicator here\n",
    "X_train = np.reshape(X_train, (X_train.shape[0], X_train.shape[1], 1))"
   ]
  },
  {
   "cell_type": "code",
   "execution_count": 13,
   "metadata": {},
   "outputs": [
    {
     "data": {
      "text/plain": [
       "array([[[0.01358342],\n",
       "        [0.01433805],\n",
       "        [0.01419615],\n",
       "        ...,\n",
       "        [0.05146348],\n",
       "        [0.05302435],\n",
       "        [0.0507153 ]],\n",
       "\n",
       "       [[0.01433805],\n",
       "        [0.01419615],\n",
       "        [0.01249984],\n",
       "        ...,\n",
       "        [0.05302435],\n",
       "        [0.0507153 ],\n",
       "        [0.05010901]],\n",
       "\n",
       "       [[0.01419615],\n",
       "        [0.01249984],\n",
       "        [0.01156461],\n",
       "        ...,\n",
       "        [0.0507153 ],\n",
       "        [0.05010901],\n",
       "        [0.0480902 ]],\n",
       "\n",
       "       ...,\n",
       "\n",
       "       [[0.78748336],\n",
       "        [0.780711  ],\n",
       "        [0.7672566 ],\n",
       "        ...,\n",
       "        [0.96898262],\n",
       "        [0.97986349],\n",
       "        [0.97376841]],\n",
       "\n",
       "       [[0.780711  ],\n",
       "        [0.7672566 ],\n",
       "        [0.72341691],\n",
       "        ...,\n",
       "        [0.97986349],\n",
       "        [0.97376841],\n",
       "        [0.99300188]],\n",
       "\n",
       "       [[0.7672566 ],\n",
       "        [0.72341691],\n",
       "        [0.71754752],\n",
       "        ...,\n",
       "        [0.97376841],\n",
       "        [0.99300188],\n",
       "        [1.        ]]])"
      ]
     },
     "execution_count": 13,
     "metadata": {},
     "output_type": "execute_result"
    }
   ],
   "source": [
    "X_train"
   ]
  },
  {
   "cell_type": "code",
   "execution_count": 15,
   "metadata": {},
   "outputs": [
    {
     "data": {
      "text/plain": [
       "(2354, 120, 1)"
      ]
     },
     "execution_count": 15,
     "metadata": {},
     "output_type": "execute_result"
    }
   ],
   "source": [
    "X_train.shape"
   ]
  },
  {
   "cell_type": "markdown",
   "metadata": {},
   "source": [
    "### Part 2. Building the RNN"
   ]
  },
  {
   "cell_type": "code",
   "execution_count": 14,
   "metadata": {},
   "outputs": [
    {
     "name": "stderr",
     "output_type": "stream",
     "text": [
      "Using TensorFlow backend.\n"
     ]
    }
   ],
   "source": [
    "#importing required libraries\n",
    "from keras.models import Sequential\n",
    "from keras.layers import Dense\n",
    "from keras.layers import LSTM\n",
    "from keras.layers import Dropout"
   ]
  },
  {
   "cell_type": "code",
   "execution_count": 24,
   "metadata": {},
   "outputs": [],
   "source": [
    "#Initializing the RNN\n",
    "regressor = Sequential()"
   ]
  },
  {
   "cell_type": "code",
   "execution_count": 25,
   "metadata": {
    "scrolled": true
   },
   "outputs": [],
   "source": [
    "#adding 1st LSTM layer and some Dropout regularization (to avoid overfitting)\n",
    "regressor.add(LSTM(units = 80, return_sequences = True, input_shape = (X_train.shape[1], 1)))\n",
    "regressor.add(Dropout(rate = 0.2)) #20% will be dropped, 16 will be dropped"
   ]
  },
  {
   "cell_type": "code",
   "execution_count": 26,
   "metadata": {},
   "outputs": [],
   "source": [
    "#adding 2nd LSTM layer and some dropout regularization\n",
    "regressor.add(LSTM(units = 80, return_sequences = True))\n",
    "regressor.add(Dropout(rate = 0.2)) #20% will be dropped, 10 will be dropped"
   ]
  },
  {
   "cell_type": "code",
   "execution_count": 27,
   "metadata": {},
   "outputs": [],
   "source": [
    "#adding 3rd LSTM layer and some dropout regularization\n",
    "regressor.add(LSTM(units = 80, return_sequences = True))\n",
    "regressor.add(Dropout(rate = 0.2)) #20% will be dropped, 10 will be dropped"
   ]
  },
  {
   "cell_type": "code",
   "execution_count": 28,
   "metadata": {},
   "outputs": [],
   "source": [
    "#adding 4th LSTM layer and some dropout regularization\n",
    "#return sequences is False because no more layer after this, False by default\n",
    "regressor.add(LSTM(units = 80))\n",
    "regressor.add(Dropout(rate = 0.2)) #20% will be dropped, 10 will be dropped"
   ]
  },
  {
   "cell_type": "code",
   "execution_count": 29,
   "metadata": {},
   "outputs": [],
   "source": [
    "#adding output layer\n",
    "regressor.add(Dense(units = 1))"
   ]
  },
  {
   "cell_type": "code",
   "execution_count": 30,
   "metadata": {},
   "outputs": [],
   "source": [
    "#compiling the RNN\n",
    "regressor.compile(optimizer = \"adam\", loss = \"mean_squared_error\")"
   ]
  },
  {
   "cell_type": "code",
   "execution_count": 31,
   "metadata": {
    "scrolled": false
   },
   "outputs": [
    {
     "name": "stdout",
     "output_type": "stream",
     "text": [
      "Epoch 1/100\n",
      "2354/2354 [==============================] - 36s 15ms/step - loss: 0.0121\n",
      "Epoch 2/100\n",
      "2354/2354 [==============================] - 34s 14ms/step - loss: 0.0027\n",
      "Epoch 3/100\n",
      "2354/2354 [==============================] - 34s 14ms/step - loss: 0.0021\n",
      "Epoch 4/100\n",
      "2354/2354 [==============================] - 34s 14ms/step - loss: 0.0022\n",
      "Epoch 5/100\n",
      "2354/2354 [==============================] - 34s 14ms/step - loss: 0.0021\n",
      "Epoch 6/100\n",
      "2354/2354 [==============================] - 34s 14ms/step - loss: 0.0018\n",
      "Epoch 7/100\n",
      "2354/2354 [==============================] - 37s 16ms/step - loss: 0.0016\n",
      "Epoch 8/100\n",
      "2354/2354 [==============================] - 40s 17ms/step - loss: 0.0017\n",
      "Epoch 9/100\n",
      "2354/2354 [==============================] - 39s 17ms/step - loss: 0.0021\n",
      "Epoch 10/100\n",
      "2354/2354 [==============================] - 1102s 468ms/step - loss: 0.0016\n",
      "Epoch 11/100\n",
      "2354/2354 [==============================] - 40s 17ms/step - loss: 0.0014\n",
      "Epoch 12/100\n",
      "2354/2354 [==============================] - 40s 17ms/step - loss: 0.0014\n",
      "Epoch 13/100\n",
      "2354/2354 [==============================] - 39s 17ms/step - loss: 0.0014\n",
      "Epoch 14/100\n",
      "2354/2354 [==============================] - 39s 17ms/step - loss: 0.0012\n",
      "Epoch 15/100\n",
      "2354/2354 [==============================] - 40s 17ms/step - loss: 0.0012\n",
      "Epoch 16/100\n",
      "2354/2354 [==============================] - 35s 15ms/step - loss: 0.0013\n",
      "Epoch 17/100\n",
      "2354/2354 [==============================] - 34s 15ms/step - loss: 0.0012\n",
      "Epoch 18/100\n",
      "2354/2354 [==============================] - 34s 14ms/step - loss: 0.0011\n",
      "Epoch 19/100\n",
      "2354/2354 [==============================] - 35s 15ms/step - loss: 0.0012\n",
      "Epoch 20/100\n",
      "2354/2354 [==============================] - 35s 15ms/step - loss: 0.0012\n",
      "Epoch 21/100\n",
      "2354/2354 [==============================] - 34s 14ms/step - loss: 0.0011\n",
      "Epoch 22/100\n",
      "2354/2354 [==============================] - 34s 14ms/step - loss: 0.0010\n",
      "Epoch 23/100\n",
      "2354/2354 [==============================] - 34s 14ms/step - loss: 0.0011\n",
      "Epoch 24/100\n",
      "2354/2354 [==============================] - 34s 14ms/step - loss: 9.2391e-04\n",
      "Epoch 25/100\n",
      "2354/2354 [==============================] - 34s 14ms/step - loss: 9.1563e-04\n",
      "Epoch 26/100\n",
      "2354/2354 [==============================] - 34s 14ms/step - loss: 9.7160e-04\n",
      "Epoch 27/100\n",
      "2354/2354 [==============================] - 34s 14ms/step - loss: 0.0010\n",
      "Epoch 28/100\n",
      "2354/2354 [==============================] - 34s 14ms/step - loss: 8.7527e-04\n",
      "Epoch 29/100\n",
      "2354/2354 [==============================] - 36s 15ms/step - loss: 8.9931e-04\n",
      "Epoch 30/100\n",
      "2354/2354 [==============================] - 36s 15ms/step - loss: 9.8966e-04\n",
      "Epoch 31/100\n",
      "2354/2354 [==============================] - 34s 15ms/step - loss: 8.9582e-04\n",
      "Epoch 32/100\n",
      "2354/2354 [==============================] - 34s 15ms/step - loss: 8.9216e-04\n",
      "Epoch 33/100\n",
      "2354/2354 [==============================] - 34s 15ms/step - loss: 8.3509e-04\n",
      "Epoch 34/100\n",
      "2354/2354 [==============================] - 34s 14ms/step - loss: 8.1215e-04\n",
      "Epoch 35/100\n",
      "2354/2354 [==============================] - 34s 14ms/step - loss: 8.9526e-04\n",
      "Epoch 36/100\n",
      "2354/2354 [==============================] - 35s 15ms/step - loss: 8.2560e-04\n",
      "Epoch 37/100\n",
      "2354/2354 [==============================] - 35s 15ms/step - loss: 8.0153e-04\n",
      "Epoch 38/100\n",
      "2354/2354 [==============================] - 34s 14ms/step - loss: 8.4705e-04\n",
      "Epoch 39/100\n",
      "2354/2354 [==============================] - 34s 14ms/step - loss: 8.4708e-04\n",
      "Epoch 40/100\n",
      "2354/2354 [==============================] - 35s 15ms/step - loss: 8.9071e-04\n",
      "Epoch 41/100\n",
      "2354/2354 [==============================] - 34s 15ms/step - loss: 7.2335e-04\n",
      "Epoch 42/100\n",
      "2354/2354 [==============================] - 34s 14ms/step - loss: 7.4429e-04\n",
      "Epoch 43/100\n",
      "2354/2354 [==============================] - 35s 15ms/step - loss: 7.6221e-04\n",
      "Epoch 44/100\n",
      "2354/2354 [==============================] - 40s 17ms/step - loss: 8.2322e-04\n",
      "Epoch 45/100\n",
      "2354/2354 [==============================] - 39s 17ms/step - loss: 7.3703e-04\n",
      "Epoch 46/100\n",
      "2354/2354 [==============================] - 39s 17ms/step - loss: 6.7931e-04\n",
      "Epoch 47/100\n",
      "2354/2354 [==============================] - 39s 17ms/step - loss: 7.0954e-04\n",
      "Epoch 48/100\n",
      "2354/2354 [==============================] - 39s 17ms/step - loss: 7.2365e-04\n",
      "Epoch 49/100\n",
      "2354/2354 [==============================] - 40s 17ms/step - loss: 6.7790e-04\n",
      "Epoch 50/100\n",
      "2354/2354 [==============================] - 39s 17ms/step - loss: 6.5664e-04\n",
      "Epoch 51/100\n",
      "2354/2354 [==============================] - 37s 16ms/step - loss: 6.5663e-04\n",
      "Epoch 52/100\n",
      "2354/2354 [==============================] - 35s 15ms/step - loss: 6.5452e-04\n",
      "Epoch 53/100\n",
      "2354/2354 [==============================] - 35s 15ms/step - loss: 6.5043e-04\n",
      "Epoch 54/100\n",
      "2354/2354 [==============================] - 34s 14ms/step - loss: 7.9600e-04\n",
      "Epoch 55/100\n",
      "2354/2354 [==============================] - 35s 15ms/step - loss: 7.2301e-04\n",
      "Epoch 56/100\n",
      "2354/2354 [==============================] - 34s 15ms/step - loss: 6.4676e-04\n",
      "Epoch 57/100\n",
      "2354/2354 [==============================] - 35s 15ms/step - loss: 6.6498e-04\n",
      "Epoch 58/100\n",
      "2354/2354 [==============================] - 34s 15ms/step - loss: 6.2985e-04\n",
      "Epoch 59/100\n",
      "2354/2354 [==============================] - 34s 15ms/step - loss: 6.6201e-04\n",
      "Epoch 60/100\n",
      "2354/2354 [==============================] - 34s 15ms/step - loss: 6.0501e-04\n",
      "Epoch 61/100\n",
      "2354/2354 [==============================] - 35s 15ms/step - loss: 7.1533e-04\n",
      "Epoch 62/100\n",
      "2354/2354 [==============================] - 37s 16ms/step - loss: 5.3546e-04\n",
      "Epoch 63/100\n",
      "2354/2354 [==============================] - 37s 16ms/step - loss: 6.5869e-04\n",
      "Epoch 64/100\n",
      "2354/2354 [==============================] - 34s 15ms/step - loss: 6.7116e-04\n",
      "Epoch 65/100\n",
      "2354/2354 [==============================] - 34s 14ms/step - loss: 6.2233e-04\n",
      "Epoch 66/100\n",
      "2354/2354 [==============================] - 35s 15ms/step - loss: 5.5588e-04\n",
      "Epoch 67/100\n",
      "2354/2354 [==============================] - 34s 15ms/step - loss: 5.6979e-04\n",
      "Epoch 68/100\n",
      "2354/2354 [==============================] - 35s 15ms/step - loss: 6.0065e-04\n",
      "Epoch 69/100\n",
      "2354/2354 [==============================] - 39s 17ms/step - loss: 5.7804e-04\n",
      "Epoch 70/100\n",
      "2354/2354 [==============================] - 39s 17ms/step - loss: 5.9732e-04\n",
      "Epoch 71/100\n",
      "2354/2354 [==============================] - 39s 17ms/step - loss: 5.5970e-04\n",
      "Epoch 72/100\n",
      "2354/2354 [==============================] - 40s 17ms/step - loss: 6.1021e-04\n",
      "Epoch 73/100\n",
      "2354/2354 [==============================] - 39s 17ms/step - loss: 5.3126e-04\n",
      "Epoch 74/100\n",
      "2354/2354 [==============================] - 39s 17ms/step - loss: 5.9502e-04\n",
      "Epoch 75/100\n",
      "2354/2354 [==============================] - 39s 17ms/step - loss: 5.9724e-04\n",
      "Epoch 76/100\n",
      "2354/2354 [==============================] - 37s 16ms/step - loss: 5.4710e-04\n",
      "Epoch 77/100\n",
      "2354/2354 [==============================] - 37s 16ms/step - loss: 5.6277e-04\n",
      "Epoch 78/100\n",
      "2354/2354 [==============================] - 37s 16ms/step - loss: 5.8127e-04\n",
      "Epoch 79/100\n",
      "2354/2354 [==============================] - 37s 16ms/step - loss: 5.8931e-04\n",
      "Epoch 80/100\n",
      "2354/2354 [==============================] - 34s 15ms/step - loss: 5.7800e-04\n",
      "Epoch 81/100\n",
      "2354/2354 [==============================] - 33s 14ms/step - loss: 5.0950e-04\n",
      "Epoch 82/100\n",
      "2354/2354 [==============================] - 34s 15ms/step - loss: 5.5846e-04\n",
      "Epoch 83/100\n",
      "2354/2354 [==============================] - 34s 14ms/step - loss: 5.5798e-04\n",
      "Epoch 84/100\n",
      "2354/2354 [==============================] - 34s 14ms/step - loss: 5.0240e-04\n",
      "Epoch 85/100\n",
      "2354/2354 [==============================] - 34s 15ms/step - loss: 5.1235e-04\n",
      "Epoch 86/100\n",
      "2354/2354 [==============================] - 34s 15ms/step - loss: 5.5241e-04\n",
      "Epoch 87/100\n",
      "2354/2354 [==============================] - 35s 15ms/step - loss: 5.5688e-04\n",
      "Epoch 88/100\n",
      "2354/2354 [==============================] - 36s 15ms/step - loss: 5.0630e-04\n",
      "Epoch 89/100\n",
      "2354/2354 [==============================] - 36s 15ms/step - loss: 5.4729e-04\n",
      "Epoch 90/100\n",
      "2354/2354 [==============================] - 35s 15ms/step - loss: 5.3960e-04\n",
      "Epoch 91/100\n",
      "2354/2354 [==============================] - 35s 15ms/step - loss: 5.3126e-04\n",
      "Epoch 92/100\n",
      "2354/2354 [==============================] - 34s 15ms/step - loss: 5.2921e-04\n",
      "Epoch 93/100\n",
      "2354/2354 [==============================] - 37s 16ms/step - loss: 5.1953e-04\n",
      "Epoch 94/100\n",
      "2354/2354 [==============================] - 39s 17ms/step - loss: 6.2944e-04\n",
      "Epoch 95/100\n",
      "2354/2354 [==============================] - 40s 17ms/step - loss: 5.3843e-04\n",
      "Epoch 96/100\n",
      "2354/2354 [==============================] - 39s 17ms/step - loss: 5.6088e-04\n",
      "Epoch 97/100\n",
      "2354/2354 [==============================] - 40s 17ms/step - loss: 6.3256e-04\n",
      "Epoch 98/100\n",
      "2354/2354 [==============================] - 39s 17ms/step - loss: 4.9277e-04\n",
      "Epoch 99/100\n",
      "2354/2354 [==============================] - 40s 17ms/step - loss: 5.4806e-04\n",
      "Epoch 100/100\n",
      "2354/2354 [==============================] - 40s 17ms/step - loss: 4.9745e-04\n"
     ]
    },
    {
     "data": {
      "text/plain": [
       "<keras.callbacks.callbacks.History at 0x1fba1b12b70>"
      ]
     },
     "execution_count": 31,
     "metadata": {},
     "output_type": "execute_result"
    }
   ],
   "source": [
    "#fitting the RNN to the training set\n",
    "regressor.fit(X_train, y_train, batch_size = 32, epochs = 100)"
   ]
  },
  {
   "cell_type": "markdown",
   "metadata": {},
   "source": [
    "Initially I started out with 200 epochs, but then I saw that the losses were getting converged fairly early. So I reduced my number of epochs to 100. Now, loss converges at almost 0.05%, which is pretty good."
   ]
  },
  {
   "cell_type": "markdown",
   "metadata": {},
   "source": [
    "### Part 3. Making the predictions and visualizing the results"
   ]
  },
  {
   "cell_type": "code",
   "execution_count": 32,
   "metadata": {},
   "outputs": [
    {
     "data": {
      "text/plain": [
       "array([[249.539993],\n",
       "       [257.329987],\n",
       "       [257.049988],\n",
       "       [256.769989],\n",
       "       [258.73999 ],\n",
       "       [258.690002],\n",
       "       [258.299988],\n",
       "       [261.549988],\n",
       "       [261.130005],\n",
       "       [263.75    ],\n",
       "       [263.679993],\n",
       "       [265.799988],\n",
       "       [267.899994],\n",
       "       [265.540009],\n",
       "       [263.690002],\n",
       "       [262.589996],\n",
       "       [262.709991],\n",
       "       [266.940002],\n",
       "       [265.579987],\n",
       "       [266.600006],\n",
       "       [267.269989],\n",
       "       [258.309998],\n",
       "       [261.070007],\n",
       "       [263.790009],\n",
       "       [267.480011],\n",
       "       [270.      ],\n",
       "       [268.600006],\n",
       "       [268.809998],\n",
       "       [267.779999],\n",
       "       [271.459991],\n",
       "       [277.      ],\n",
       "       [279.570007],\n",
       "       [279.799988],\n",
       "       [279.5     ],\n",
       "       [282.230011],\n",
       "       [280.529999],\n",
       "       [284.690002],\n",
       "       [284.820007],\n",
       "       [291.119995],\n",
       "       [289.459991]])"
      ]
     },
     "execution_count": 32,
     "metadata": {},
     "output_type": "execute_result"
    }
   ],
   "source": [
    "#getting the real stock price of Nov 2019 and Dec 2019\n",
    "test = pd.read_csv(\"Apple_Stock_Prices_Test.csv\", sep = \",\", encoding = \"ISO-8859-1\")\n",
    "#getting the numpy array\n",
    "real_stock_price = test.iloc[:, 1:2].values\n",
    "real_stock_price"
   ]
  },
  {
   "cell_type": "code",
   "execution_count": 33,
   "metadata": {},
   "outputs": [],
   "source": [
    "#getting the predicted stock price of Jan 2017\n",
    "\n",
    "#concatenate\n",
    "dataset_total = pd.concat((train[\"Open\"], test[\"Open\"]), axis = 0) #0 for vertical axis\n",
    "\n",
    "#get 120 previous stock prices as inputs for present financial day\n",
    "inputs = dataset_total[len(dataset_total) - len(test) - 120 :].values\n",
    "\n",
    "#simple reshape to get the right shape\n",
    "inputs = inputs.reshape(-1, 1)\n",
    "\n",
    "#scaling the inputs\n",
    "inputs = sc.transform(inputs)\n",
    "\n",
    "#creating number of time steps (special structure)\n",
    "X_test = [] #inputs\n",
    "for i in range(120, 160): #coz 40 financial days\n",
    "    X_test.append(inputs[i-120 : i, 0]) #0 for column index\n",
    "#convert lists to numpy arrays\n",
    "X_test = np.array(X_test)\n",
    "\n",
    "#obtain the right 3d format\n",
    "X_test = np.reshape(X_test, (X_test.shape[0], X_test.shape[1], 1))\n",
    "\n",
    "#prediction\n",
    "predicted_stock_price = regressor.predict(X_test)\n",
    "\n",
    "#inverse the scaling\n",
    "predicted_stock_price = sc.inverse_transform(predicted_stock_price)"
   ]
  },
  {
   "cell_type": "code",
   "execution_count": 35,
   "metadata": {},
   "outputs": [
    {
     "data": {
      "text/plain": [
       "(40, 1)"
      ]
     },
     "execution_count": 35,
     "metadata": {},
     "output_type": "execute_result"
    }
   ],
   "source": [
    "predicted_stock_price.shape"
   ]
  },
  {
   "cell_type": "code",
   "execution_count": 36,
   "metadata": {},
   "outputs": [
    {
     "data": {
      "image/png": "[encoded data removed]",
      "text/plain": [
       "<Figure size 432x288 with 1 Axes>"
      ]
     },
     "metadata": {
      "needs_background": "light"
     },
     "output_type": "display_data"
    }
   ],
   "source": [
    "#visualizing the results\n",
    "plt.plot(real_stock_price, color = \"red\", label = \"Real Apple Stock Price\")\n",
    "plt.plot(predicted_stock_price, color = \"blue\", label = \"Predicted Apple Stock Price\")\n",
    "plt.title(\"Apple Stock Price Prediction\")\n",
    "plt.xlabel(\"Time\")\n",
    "plt.ylabel(\"Apple Stock Price\")\n",
    "plt.legend()\n",
    "plt.show()"
   ]
  },
  {
   "cell_type": "markdown",
   "metadata": {},
   "source": [
    "Now we know that in real life, stock prices often have certain jumps in both direction, which are caused by unpredictable events or news, so in reality future stock prices cannot really be predicted. This model however, aims to predict trends in future stock prices. That's why we see a lag when it comes to the actual values. But the trends of these two have been fairly correctly predicted."
   ]
  }
 ],
 "metadata": {
  "kernelspec": {
   "display_name": "Python 3",
   "language": "python",
   "name": "python3"
  },
  "language_info": {
   "codemirror_mode": {
    "name": "ipython",
    "version": 3
   },
   "file_extension": ".py",
   "mimetype": "text/x-python",
   "name": "python",
   "nbconvert_exporter": "python",
   "pygments_lexer": "ipython3",
   "version": "3.6.8"
  }
 },
 "nbformat": 4,
 "nbformat_minor": 2
}
